{
 "cells": [
  {
   "cell_type": "markdown",
   "id": "6b44d1b8",
   "metadata": {},
   "source": [
    "<h1>Data Science Tools and Ecosystem </h1>"
   ]
  },
  {
   "cell_type": "markdown",
   "id": "f196c94e",
   "metadata": {},
   "source": [
    "In this notebook, Data Science Tools and Ecosystem are summarized."
   ]
  },
  {
   "cell_type": "markdown",
   "id": "3804984f",
   "metadata": {},
   "source": [
    "Some of the popular languages that Data Scientists use are:\n",
    "<ol>\n",
    "    <li>Python </li>\n",
    "    <li>R </li>\n",
    "    <li>Julia </li>\n",
    "    </ol>"
   ]
  },
  {
   "cell_type": "markdown",
   "id": "68a0aac5",
   "metadata": {},
   "source": [
    "<b> Objectives  </b>\n",
    "\n",
    "<ul>\n",
    "    <li>Python </li>\n",
    "    <li>R </li>\n",
    "    <li>Julia </li>\n",
    "    </ul>"
   ]
  },
  {
   "cell_type": "markdown",
   "id": "53bf1728",
   "metadata": {},
   "source": [
    "Some of the commonly used libraries used by Data Scientists include:\n",
    "\n",
    "<ol>\n",
    "     <li>Pytorch</li>\n",
    "    <li>seaborn </li>\n",
    "    <li>pandas </li>\n",
    "    </ol>"
   ]
  },
  {
   "cell_type": "markdown",
   "id": "337cd252",
   "metadata": {},
   "source": []
  },
  {
   "cell_type": "markdown",
   "id": "5e361903",
   "metadata": {},
   "source": [
    "<h3> Below are a few examples of evaluating arithmetic expressions in Python </h3>"
   ]
  },
  {
   "cell_type": "code",
   "execution_count": 3,
   "id": "f8492e97",
   "metadata": {},
   "outputs": [
    {
     "data": {
      "text/plain": [
       "17"
      ]
     },
     "execution_count": 3,
     "metadata": {},
     "output_type": "execute_result"
    }
   ],
   "source": [
    "#This a simple arithmetic expression to mutiply then add integers\n",
    "\n",
    "(3*4)+5\n"
   ]
  },
  {
   "cell_type": "code",
   "execution_count": 4,
   "id": "3a10b7fc",
   "metadata": {},
   "outputs": [
    {
     "data": {
      "text/plain": [
       "3.3333333333333335"
      ]
     },
     "execution_count": 4,
     "metadata": {},
     "output_type": "execute_result"
    }
   ],
   "source": [
    "#This will convert 200 minutes to hours by diving by 60\n",
    "200/60"
   ]
  },
  {
   "cell_type": "markdown",
   "id": "d95ef25d",
   "metadata": {},
   "source": [
    "<h2>  \n",
    "Author\n",
    "</h2>\n",
    "AYAZ"
   ]
  },
  {
   "cell_type": "code",
   "execution_count": null,
   "id": "83edfda9",
   "metadata": {},
   "outputs": [],
   "source": []
  }
 ],
 "metadata": {
  "kernelspec": {
   "display_name": "Python 3 (ipykernel)",
   "language": "python",
   "name": "python3"
  },
  "language_info": {
   "codemirror_mode": {
    "name": "ipython",
    "version": 3
   },
   "file_extension": ".py",
   "mimetype": "text/x-python",
   "name": "python",
   "nbconvert_exporter": "python",
   "pygments_lexer": "ipython3",
   "version": "3.9.12"
  }
 },
 "nbformat": 4,
 "nbformat_minor": 5
}
